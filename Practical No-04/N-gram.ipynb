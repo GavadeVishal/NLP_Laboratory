{
 "cells": [
  {
   "cell_type": "code",
   "execution_count": 6,
   "metadata": {},
   "outputs": [],
   "source": [
    "import urllib.request\n",
    "\n",
    "url = \"http://example.com\"\n",
    "timeout_seconds = 20  # Set timeout to 20 seconds\n",
    "response = urllib.request.urlopen(url, timeout=timeout_seconds)\n"
   ]
  },
  {
   "cell_type": "code",
   "execution_count": 10,
   "metadata": {},
   "outputs": [
    {
     "name": "stdout",
     "output_type": "stream",
     "text": [
      "b'<!doctype html>\\n<html>\\n<head>\\n    <title>Example Domain</title>\\n\\n    <meta charset=\"utf-8\" />\\n    <meta http-equiv=\"Content-type\" content=\"text/html; charset=utf-8\" />\\n    <meta name=\"viewport\" content=\"width=device-width, initial-scale=1\" />\\n    <style type=\"text/css\">\\n    body {\\n        background-color: #f0f0f2;\\n        margin: 0;\\n        padding: 0;\\n        font-family: -apple-system, system-ui, BlinkMacSystemFont, \"Segoe UI\", \"Open Sans\", \"Helvetica Neue\", Helvetica, Arial, sans-serif;\\n        \\n    }\\n    div {\\n        width: 600px;\\n        margin: 5em auto;\\n        padding: 2em;\\n        background-color: #fdfdff;\\n        border-radius: 0.5em;\\n        box-shadow: 2px 3px 7px 2px rgba(0,0,0,0.02);\\n    }\\n    a:link, a:visited {\\n        color: #38488f;\\n        text-decoration: none;\\n    }\\n    @media (max-width: 700px) {\\n        div {\\n            margin: 0 auto;\\n            width: auto;\\n        }\\n    }\\n    </style>    \\n</head>\\n\\n<body>\\n<div>\\n    <h1>Example Domain</h1>\\n    <p>This domain is for use in illustrative examples in documents. You may use this\\n    domain in literature without prior coordination or asking for permission.</p>\\n    <p><a href=\"https://www.iana.org/domains/example\">More information...</a></p>\\n</div>\\n</body>\\n</html>\\n'\n"
     ]
    }
   ],
   "source": [
    "import ssl\n",
    "import urllib.request\n",
    "\n",
    "# Disabling SSL certificate verification (not recommended)\n",
    "ssl._create_default_https_context = ssl._create_unverified_context\n",
    "\n",
    "url = \"https://example.com\"\n",
    "response = urllib.request.urlopen(url)\n",
    "print(response.read())\n"
   ]
  },
  {
   "cell_type": "code",
   "execution_count": 14,
   "metadata": {},
   "outputs": [
    {
     "name": "stderr",
     "output_type": "stream",
     "text": [
      "[nltk_data] Downloading package stopwords to\n",
      "[nltk_data]     C:\\Users\\gavad\\AppData\\Roaming\\nltk_data...\n",
      "[nltk_data]   Package stopwords is already up-to-date!\n"
     ]
    }
   ],
   "source": [
    "# stopwords\n",
    "import nltk\n",
    "nltk.download('stopwords')\n",
    "from nltk.corpus import stopwords"
   ]
  },
  {
   "cell_type": "code",
   "execution_count": 15,
   "metadata": {},
   "outputs": [],
   "source": [
    "set_stopwords = set(stopwords.words('english'))"
   ]
  },
  {
   "cell_type": "code",
   "execution_count": 16,
   "metadata": {},
   "outputs": [],
   "source": [
    "set_stopwords_xnot=[item for item in set_stopwords if item not in ['no','not'] ]"
   ]
  },
  {
   "cell_type": "code",
   "execution_count": 17,
   "metadata": {},
   "outputs": [],
   "source": [
    "# util func to convert stringified list to list\n",
    "def to_list(strg_list):\n",
    "  return strg_list.strip(\"[]\").replace(\"'\",\"\").replace('\"',\"\").replace(\",\",\"\").split() "
   ]
  },
  {
   "cell_type": "code",
   "execution_count": 18,
   "metadata": {},
   "outputs": [],
   "source": [
    "#suppress matplotlib warning messages\n",
    "import warnings\n",
    "warnings.filterwarnings( \"ignore\", module = \"matplotlib\\..*\" )"
   ]
  },
  {
   "cell_type": "code",
   "execution_count": 20,
   "metadata": {},
   "outputs": [
    {
     "name": "stdout",
     "output_type": "stream",
     "text": [
      "                       posttoken                        unigram  \\\n",
      "0  [example, data, for, testing]  [example, data, for, testing]   \n",
      "1     [another, set, of, tokens]     [another, set, of, tokens]   \n",
      "\n",
      "                   unigramf  \n",
      "0  [example, data, testing]  \n",
      "1    [another, set, tokens]  \n"
     ]
    }
   ],
   "source": [
    "import pandas as pd\n",
    "\n",
    "# Example DataFrame initialization (replace with your actual data)\n",
    "data = {'posttoken': [['example', 'data', 'for', 'testing'],\n",
    "                      ['another', 'set', 'of', 'tokens']]}\n",
    "df = pd.DataFrame(data)\n",
    "\n",
    "# Create unigrams\n",
    "df['unigram'] = [[item for item in strg_list] for strg_list in df['posttoken']]\n",
    "\n",
    "# Define stopwords set (example using NLTK)\n",
    "from nltk.corpus import stopwords\n",
    "set_stopwords = set(stopwords.words('english'))\n",
    "\n",
    "# Create filtered unigrams\n",
    "df['unigramf'] = [[item for item in list_item if item not in set_stopwords] for list_item in df['unigram']]\n",
    "\n",
    "print(df[['posttoken', 'unigram', 'unigramf']].head())\n"
   ]
  },
  {
   "cell_type": "code",
   "execution_count": 22,
   "metadata": {},
   "outputs": [
    {
     "name": "stdout",
     "output_type": "stream",
     "text": [
      "6\n",
      "[('example', 1), ('data', 1), ('testing', 1), ('another', 1), ('set', 1), ('tokens', 1)]\n"
     ]
    }
   ],
   "source": [
    "from collections import Counter\n",
    "from operator import itemgetter\n",
    "\n",
    "# Assuming 'df' and 'unigramf' have already been created as in the previous steps\n",
    "count_1gramf = Counter([item for list_item in df['unigramf'] for item in list_item])\n",
    "\n",
    "# Print the length of the counter (number of unique tokens)\n",
    "print(len(count_1gramf))\n",
    "\n",
    "# Print the top 100 most frequent tokens\n",
    "print(sorted(list(count_1gramf.items()), key=itemgetter(1), reverse=True)[0:100])\n"
   ]
  },
  {
   "cell_type": "code",
   "execution_count": 24,
   "metadata": {},
   "outputs": [
    {
     "name": "stdout",
     "output_type": "stream",
     "text": [
      "                                           bigram            bigramf\n",
      "0  [(example, data), (data, for), (for, testing)]  [(example, data)]\n",
      "1       [(another, set), (set, of), (of, tokens)]   [(another, set)]\n"
     ]
    }
   ],
   "source": [
    "import nltk\n",
    "\n",
    "# Create bigrams directly from the 'posttoken' lists\n",
    "df['bigram'] = [list(nltk.bigrams(strg_list)) for strg_list in df['posttoken']]\n",
    "\n",
    "# Assuming you have a set of stopwords defined\n",
    "set_stopwords_xnot = set(stopwords.words('english'))\n",
    "\n",
    "# Create filtered bigrams\n",
    "df['bigramf'] = [[x for x in list_item if not any(y in x for y in set_stopwords_xnot)] for list_item in df['bigram']]\n",
    "\n",
    "# Display the bigrams and filtered bigrams\n",
    "print(df[['bigram', 'bigramf']].head())\n"
   ]
  },
  {
   "cell_type": "code",
   "execution_count": 25,
   "metadata": {},
   "outputs": [
    {
     "name": "stdout",
     "output_type": "stream",
     "text": [
      "6\n",
      "Counter({('example', 'data'): 1, ('data', 'for'): 1, ('for', 'testing'): 1, ('another', 'set'): 1, ('set', 'of'): 1, ('of', 'tokens'): 1})\n",
      "2\n",
      "[(('example', 'data'), 1), (('another', 'set'), 1)]\n"
     ]
    }
   ],
   "source": [
    "# create bigram counter\n",
    "from collections import Counter\n",
    "from nltk.lm.preprocessing import flatten\n",
    "import operator\n",
    "count_2gram= Counter(list(flatten([list_item for list_item in df['bigram']])))\n",
    "print(len(count_2gram))\n",
    "print(count_2gram)\n",
    "count_2gramf= Counter (flatten(list_item for list_item in df['bigramf']))\n",
    "print(len(count_2gramf))\n",
    "print(sorted(list(count_2gramf.items()),key=operator.itemgetter(1),reverse=True)[0:100])\n",
    "#output\n",
    "#...\n",
    "#29296\n",
    "#[(('ed', 'miliband'), 829), (('david', 'cameron'), 529), (('nigel', 'farage'), 502),..."
   ]
  },
  {
   "cell_type": "code",
   "execution_count": 27,
   "metadata": {},
   "outputs": [
    {
     "name": "stdout",
     "output_type": "stream",
     "text": [
      "                                        trigram trigramf\n",
      "0  [(example, data, for), (data, for, testing)]       []\n",
      "1       [(another, set, of), (set, of, tokens)]       []\n"
     ]
    }
   ],
   "source": [
    "import nltk\n",
    "from collections import Counter\n",
    "\n",
    "# Create trigrams directly from the 'posttoken' lists\n",
    "df['trigram'] = [list(nltk.trigrams(strg_list)) for strg_list in df['posttoken']]\n",
    "\n",
    "# Assuming you have a set of stopwords defined\n",
    "set_stopwords_xnot = set(stopwords.words('english'))\n",
    "\n",
    "# Create filtered trigrams\n",
    "df['trigramf'] = [[x for x in list_item if not any(y in x for y in set_stopwords_xnot)] for list_item in df['trigram']]\n",
    "\n",
    "# Display the trigrams and filtered trigrams\n",
    "print(df[['trigram', 'trigramf']].head())\n"
   ]
  },
  {
   "cell_type": "code",
   "execution_count": 28,
   "metadata": {},
   "outputs": [
    {
     "name": "stdout",
     "output_type": "stream",
     "text": [
      "4\n",
      "[(('example', 'data', 'for'), 1), (('data', 'for', 'testing'), 1), (('another', 'set', 'of'), 1), (('set', 'of', 'tokens'), 1)]\n",
      "0\n",
      "[]\n"
     ]
    }
   ],
   "source": [
    "# create trigram counter\n",
    "from collections import Counter\n",
    "from nltk.lm.preprocessing import flatten\n",
    "from operator import itemgetter\n",
    "count_3gram= Counter(list(flatten([list_item for list_item in df['trigram']])))\n",
    "print(len(count_3gram))\n",
    "print(list(count_3gram.items())[0:100])\n",
    "count_3gramf= Counter (flatten(list_item for list_item in df['trigramf']))\n",
    "print(len(count_3gramf))\n",
    "print(sorted(list(count_3gramf.items()),key=itemgetter(1),reverse=True)[0:100])\n",
    "# output\n",
    "#19859\n",
    "#[(('david', 'cameron', 'win'), 67), (('ukip', 'ukip', 'ukip'), 58),..."
   ]
  },
  {
   "cell_type": "code",
   "execution_count": 30,
   "metadata": {},
   "outputs": [
    {
     "name": "stdout",
     "output_type": "stream",
     "text": [
      "                             ngram ngramf\n",
      "0  [(example, data, for, testing)]     []\n",
      "1     [(another, set, of, tokens)]     []\n"
     ]
    }
   ],
   "source": [
    "import nltk\n",
    "from nltk.util import ngrams\n",
    "from collections import Counter\n",
    "\n",
    "# Create n-grams directly from the 'posttoken' lists\n",
    "df['ngram'] = [list(ngrams(strg_list, 4)) for strg_list in df['posttoken']]\n",
    "\n",
    "# Assuming you have a set of stopwords defined\n",
    "set_stopwords_xnot = set(stopwords.words('english'))\n",
    "\n",
    "# Create filtered n-grams\n",
    "df['ngramf'] = [[x for x in list_item if not any(y in x for y in set_stopwords_xnot)] for list_item in df['ngram']]\n",
    "\n",
    "# Display the n-grams and filtered n-grams\n",
    "print(df[['ngram', 'ngramf']].head())\n"
   ]
  },
  {
   "cell_type": "code",
   "execution_count": 31,
   "metadata": {},
   "outputs": [
    {
     "name": "stdout",
     "output_type": "stream",
     "text": [
      "2\n",
      "[(('example', 'data', 'for', 'testing'), 1), (('another', 'set', 'of', 'tokens'), 1)]\n",
      "0\n",
      "[]\n"
     ]
    }
   ],
   "source": [
    "# create ngram counter\n",
    "from collections import Counter\n",
    "from nltk.lm.preprocessing import flatten\n",
    "from operator import itemgetter\n",
    "count_ngram= Counter(list(flatten([list_item for list_item in df['ngram']])))\n",
    "print(len(count_ngram))\n",
    "print(list(count_ngram.items())[0:100])\n",
    "count_ngramf= Counter (flatten(list_item for list_item in df['ngramf']))\n",
    "print(len(count_ngramf))\n",
    "print(sorted(list(count_ngramf.items()),key=itemgetter(1),reverse=True)[0:100])\n",
    "#output\n",
    "#...\n",
    "#10825\n",
    "#[(('ukip', 'ukip', 'ukip', 'ukip'), 53), (('ukip', 'would', 'accept', 'eu'), 52),..."
   ]
  },
  {
   "cell_type": "code",
   "execution_count": 32,
   "metadata": {},
   "outputs": [
    {
     "data": {
      "text/html": [
       "<div>\n",
       "<style scoped>\n",
       "    .dataframe tbody tr th:only-of-type {\n",
       "        vertical-align: middle;\n",
       "    }\n",
       "\n",
       "    .dataframe tbody tr th {\n",
       "        vertical-align: top;\n",
       "    }\n",
       "\n",
       "    .dataframe thead th {\n",
       "        text-align: right;\n",
       "    }\n",
       "</style>\n",
       "<table border=\"1\" class=\"dataframe\">\n",
       "  <thead>\n",
       "    <tr style=\"text-align: right;\">\n",
       "      <th></th>\n",
       "      <th>evgram</th>\n",
       "      <th>evgramf</th>\n",
       "    </tr>\n",
       "  </thead>\n",
       "  <tbody>\n",
       "    <tr>\n",
       "      <th>0</th>\n",
       "      <td>[(example,), (data,), (for,), (testing,), (example, data), (data, for), (for, testing), (example, data, for), (data, for, testing)]</td>\n",
       "      <td>[(example,), (data,), (testing,), (example, data)]</td>\n",
       "    </tr>\n",
       "    <tr>\n",
       "      <th>1</th>\n",
       "      <td>[(another,), (set,), (of,), (tokens,), (another, set), (set, of), (of, tokens), (another, set, of), (set, of, tokens)]</td>\n",
       "      <td>[(another,), (set,), (tokens,), (another, set)]</td>\n",
       "    </tr>\n",
       "  </tbody>\n",
       "</table>\n",
       "</div>"
      ],
      "text/plain": [
       "                                                                                                                                evgram  \\\n",
       "0  [(example,), (data,), (for,), (testing,), (example, data), (data, for), (for, testing), (example, data, for), (data, for, testing)]   \n",
       "1               [(another,), (set,), (of,), (tokens,), (another, set), (set, of), (of, tokens), (another, set, of), (set, of, tokens)]   \n",
       "\n",
       "                                              evgramf  \n",
       "0  [(example,), (data,), (testing,), (example, data)]  \n",
       "1     [(another,), (set,), (tokens,), (another, set)]  "
      ]
     },
     "execution_count": 32,
     "metadata": {},
     "output_type": "execute_result"
    }
   ],
   "source": [
    "# create df['evgram']\n",
    "import nltk\n",
    "from nltk.util import everygrams\n",
    "#create list from ngram generator\n",
    "df['evgram']=[list(everygrams(item, min_len=1, max_len=3)) for item in df['unigram']]\n",
    "df['evgramf']=[[x for x in list_item if not any(y for y in set_stopwords_xnot if y in x) ] for list_item in df['evgram']]\n",
    "df[['evgram','evgramf']][0:5]"
   ]
  },
  {
   "cell_type": "code",
   "execution_count": 33,
   "metadata": {},
   "outputs": [
    {
     "name": "stdout",
     "output_type": "stream",
     "text": [
      "21\n",
      "[(('example',), 1), (('data',), 1), (('for',), 1), (('testing',), 1), (('another',), 1), (('set',), 1), (('of',), 1), (('tokens',), 1), (('example', 'data'), 1), (('data', 'for'), 1), (('for', 'testing'), 1), (('testing', 'another'), 1), (('another', 'set'), 1), (('set', 'of'), 1), (('of', 'tokens'), 1), (('example', 'data', 'for'), 1), (('data', 'for', 'testing'), 1), (('for', 'testing', 'another'), 1), (('testing', 'another', 'set'), 1), (('another', 'set', 'of'), 1), (('set', 'of', 'tokens'), 1)]\n",
      "15\n",
      "[(('example',), 1), (('data',), 1), (('testing',), 1), (('another',), 1), (('set',), 1), (('tokens',), 1), (('example', 'data'), 1), (('data', 'testing'), 1), (('testing', 'another'), 1), (('another', 'set'), 1), (('set', 'tokens'), 1), (('example', 'data', 'testing'), 1), (('data', 'testing', 'another'), 1), (('testing', 'another', 'set'), 1), (('another', 'set', 'tokens'), 1)]\n"
     ]
    }
   ],
   "source": [
    "import nltk\n",
    "from nltk.util import everygrams\n",
    "from operator import itemgetter\n",
    "count_evgram = Counter(everygrams(list(flatten([list_item for list_item in df['unigram']])), min_len=1, max_len=3))\n",
    "print(len(count_evgram))\n",
    "print(list(count_evgram.items())[0:100])\n",
    "count_evgramf = Counter(everygrams(list(flatten([list_item for list_item in df['unigramf']])), min_len=1, max_len=3))\n",
    "print(len(count_evgramf))\n",
    "print(sorted(list(count_evgramf.items()),key=itemgetter(1),reverse=True)[0:100])\n",
    "#output:\n",
    "#...\n",
    "#153138\n",
    "#[(('tory',), 2387), (('miliband',), 1950), (('snp',), 1919), (('ed',), 1309), ..."
   ]
  },
  {
   "cell_type": "code",
   "execution_count": 34,
   "metadata": {},
   "outputs": [
    {
     "data": {
      "text/plain": [
       "<BarContainer object of 2 artists>"
      ]
     },
     "execution_count": 34,
     "metadata": {},
     "output_type": "execute_result"
    },
    {
     "data": {
      "image/png": "[encoded data removed]",
      "text/plain": [
       "<Figure size 1000x1000 with 1 Axes>"
      ]
     },
     "metadata": {},
     "output_type": "display_data"
    }
   ],
   "source": [
    "import matplotlib.pyplot as plt\n",
    "plt.figure(figsize=(10,10))\n",
    "\n",
    "data_bigramf=sorted(list(count_2gramf.items()),key=operator.itemgetter(1),reverse=True)[0:20]\n",
    "\n",
    "# join the 2 words with '-' in the middle\n",
    "words = ['-'.join(x) for x, c in data_bigramf ]\n",
    "\n",
    "# get the counts\n",
    "width = [c for x, c in data_bigramf]\n",
    "\n",
    "plt.barh(words, width, color='cyan')"
   ]
  }
 ],
 "metadata": {
  "kernelspec": {
   "display_name": "Python 3",
   "language": "python",
   "name": "python3"
  },
  "language_info": {
   "codemirror_mode": {
    "name": "ipython",
    "version": 3
   },
   "file_extension": ".py",
   "mimetype": "text/x-python",
   "name": "python",
   "nbconvert_exporter": "python",
   "pygments_lexer": "ipython3",
   "version": "3.9.0"
  }
 },
 "nbformat": 4,
 "nbformat_minor": 2
}
